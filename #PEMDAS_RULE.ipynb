{
 "cells": [
  {
   "cell_type": "code",
   "execution_count": 2,
   "metadata": {
    "scrolled": false
   },
   "outputs": [
    {
     "data": {
      "text/plain": [
       "1052.1428571428573"
      ]
     },
     "execution_count": 2,
     "metadata": {},
     "output_type": "execute_result"
    }
   ],
   "source": [
    "68 + 7 * (20 * 3) + 64 - 3 * 4 + 65 / 7 * (56 + 4) - 27 * 3 + 5 * ( 28 + 8) / 5"
   ]
  },
  {
   "cell_type": "markdown",
   "metadata": {},
   "source": [
    " #PEMDAS_RULE\n",
    " \n",
    " Q.1:   68 + 7 * (20 * 3) + 64 - 3 * 4 + 65 / 7 * (56 + 4) - 27 * 3 + 5 * ( 28 + 8) / 5\n",
    " \n",
    " sol:\n",
    "      68 + 7 * (20 * 3) + 64 - 3 * 4 + 65 / 7 * (56 + 4) - 27 * 3 + 5 * ( 28 + 8) / 5\n",
    "      68 + 7 * (60) + 64 - 12  + 65 / 7 * (60) - 81 + 5 * (36) / 5\n",
    "      68 + 420 + 64 - 12 + 9.285 * 60 - 81 + 180 / 5\n",
    "      68 + 420 + 64 - 12 + 557.1 - 81 + 36\n",
    "      552 - 12 + 557.1 - 81 + 36\n",
    "      552 + 557.1 + 36 - 12 - 81\n",
    "      1145.1 -  93\n",
    "      [1052.14] "
   ]
  },
  {
   "cell_type": "code",
   "execution_count": 3,
   "metadata": {},
   "outputs": [
    {
     "data": {
      "text/plain": [
       "-75537.2"
      ]
     },
     "execution_count": 3,
     "metadata": {},
     "output_type": "execute_result"
    }
   ],
   "source": [
    "20 + 6 * 8 * 7 * (4 + 6 - 8) / 15 + 6 - 8 * (9 * 7) * 5 * 6 / 2 * (5 + 5) - 8"
   ]
  },
  {
   "cell_type": "markdown",
   "metadata": {},
   "source": [
    "#PEMDAS_RULE\n",
    "\n",
    "Q.2:  20 + 6 * 8 * 7 * (4 + 6 - 8) / 15 + 6 - 8 * (9 * 7) * 5 * 6 / 2 * (5 + 5) - 8\n",
    "\n",
    "sol:\n",
    "     20 + 6 * 8 * 7 * (4 + 6 - 8) / 15 + 6 - 8 * (9 * 7) * 5 * 6 / 2 * (5 + 5) - 8\n",
    "     20 + 336 * (2) / 15 + 6 - 8 * (63) * 5 * 6 / 2 * (10) - 8\n",
    "     20 + 672 / 15 + 6 - 8 * 315 * 6 / 2 * (10) - 8 \n",
    "     20 + 44.8 + 6 - 2520 * 3 * (10) - 8\n",
    "     20 + 44.8 + 6 - 2520 * 30 -8 \n",
    "     20 + 44.8 + 6 - 75600 - 8 \n",
    "     70.8 - 75608\n",
    "     [-75537.2]"
   ]
  }
 ],
 "metadata": {
  "kernelspec": {
   "display_name": "Python 3",
   "language": "python",
   "name": "python3"
  },
  "language_info": {
   "codemirror_mode": {
    "name": "ipython",
    "version": 3
   },
   "file_extension": ".py",
   "mimetype": "text/x-python",
   "name": "python",
   "nbconvert_exporter": "python",
   "pygments_lexer": "ipython3",
   "version": "3.7.3"
  }
 },
 "nbformat": 4,
 "nbformat_minor": 2
}
